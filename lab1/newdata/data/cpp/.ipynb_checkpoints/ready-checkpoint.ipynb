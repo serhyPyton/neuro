{
 "cells": [
  {
   "cell_type": "code",
   "execution_count": 104,
   "metadata": {},
   "outputs": [],
   "source": [
    "import pandas as pd\n",
    "from numpy import genfromtxt\n",
    "\n",
    "data = genfromtxt('data01.csv', delimiter=';')\n",
    "for i in data:\n",
    "    if i[2]==0:\n",
    "        i[2]=-1\n",
    "train =(data[0:75,0:3])\n",
    "test =(data[75:100,0:3])\n",
    "#print(train)"
   ]
  },
  {
   "cell_type": "code",
   "execution_count": 119,
   "metadata": {},
   "outputs": [
    {
     "name": "stdout",
     "output_type": "stream",
     "text": [
      "0.5 0.5 0.5\n"
     ]
    }
   ],
   "source": [
    "w1 = 0.5\n",
    "w2 = 0.5\n",
    "b  = 0.5\n",
    "print(w1, w2, b)\n"
   ]
  },
  {
   "cell_type": "code",
   "execution_count": 124,
   "metadata": {},
   "outputs": [],
   "source": [
    "def f(x1,x2):\n",
    "    return(x1*w1+x2*w2+b)\n",
    "def decision_unit(value):\n",
    "    return -1 if value < 0 else 1"
   ]
  },
  {
   "cell_type": "code",
   "execution_count": 135,
   "metadata": {},
   "outputs": [
    {
     "name": "stdout",
     "output_type": "stream",
     "text": [
      "-0.4670068018896103 -0.3926731235396126 0.45500000000000007\n",
      "-0.4670068018896103 -0.3926731235396126 0.45500000000000007\n",
      "-0.4670068018896103 -0.3926731235396126 0.45500000000000007\n",
      "-0.4670068018896103 -0.3926731235396126 0.45500000000000007\n",
      "-0.4670068018896103 -0.3926731235396126 0.45500000000000007\n",
      "-0.4670068018896103 -0.3926731235396126 0.45500000000000007\n",
      "-0.4670068018896103 -0.3926731235396126 0.45500000000000007\n",
      "-0.4670068018896103 -0.3926731235396126 0.45500000000000007\n",
      "-0.4670068018896103 -0.3926731235396126 0.45500000000000007\n",
      "-0.4670068018896103 -0.3926731235396126 0.45500000000000007\n",
      "-0.4670068018896103 -0.3926731235396126 0.45500000000000007\n",
      "-0.4670068018896103 -0.3926731235396126 0.45500000000000007\n",
      "-0.4670068018896103 -0.3926731235396126 0.45500000000000007\n",
      "-0.4670068018896103 -0.3926731235396126 0.45500000000000007\n",
      "-0.4670068018896103 -0.3926731235396126 0.45500000000000007\n",
      "-0.4670068018896103 -0.3926731235396126 0.45500000000000007\n",
      "-0.4670068018896103 -0.3926731235396126 0.45500000000000007\n",
      "-0.4670068018896103 -0.3926731235396126 0.45500000000000007\n",
      "-0.4670068018896103 -0.3926731235396126 0.45500000000000007\n",
      "-0.4670068018896103 -0.3926731235396126 0.45500000000000007\n"
     ]
    }
   ],
   "source": [
    "for i in range(20):\n",
    "    for it in range(75):\n",
    "        value=f(train[it][0],train[it][1])\n",
    "        true_label = train[it][2]\n",
    "        pred_label = decision_unit(value)\n",
    "        if (true_label != pred_label):\n",
    "            w1 = w1 + train[it][0] * 0.5*true_label\n",
    "            w2 = w2 + train[it][1] * 0.5*true_label\n",
    "            b = b + 0.5*true_label\n",
    "    print(w1,w2,b)"
   ]
  },
  {
   "cell_type": "code",
   "execution_count": 131,
   "metadata": {},
   "outputs": [
    {
     "data": {
      "image/png": "[encoded data removed]",
      "text/plain": [
       "<Figure size 432x288 with 1 Axes>"
      ]
     },
     "metadata": {
      "needs_background": "light"
     },
     "output_type": "display_data"
    }
   ],
   "source": [
    "import numpy as np\n",
    "import matplotlib.pyplot as plt\n",
    "\n",
    "# evenly sampled time at 200ms intervals\n",
    "t = np.arange(0., 5., 0.2)\n",
    "\n",
    "# red dashes, blue squares and green triangles\n",
    "plt.plot(t, (t*w2-b)/w1, 'r')\n",
    "plt.show()"
   ]
  },
  {
   "cell_type": "code",
   "execution_count": null,
   "metadata": {},
   "outputs": [],
   "source": []
  }
 ],
 "metadata": {
  "kernelspec": {
   "display_name": "Python 3",
   "language": "python",
   "name": "python3"
  },
  "language_info": {
   "codemirror_mode": {
    "name": "ipython",
    "version": 3
   },
   "file_extension": ".py",
   "mimetype": "text/x-python",
   "name": "python",
   "nbconvert_exporter": "python",
   "pygments_lexer": "ipython3",
   "version": "3.7.1"
  }
 },
 "nbformat": 4,
 "nbformat_minor": 2
}
