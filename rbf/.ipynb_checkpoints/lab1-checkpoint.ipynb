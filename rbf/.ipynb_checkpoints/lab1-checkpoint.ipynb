{
 "cells": [
  {
   "cell_type": "code",
   "execution_count": 15,
   "metadata": {},
   "outputs": [
    {
     "name": "stdout",
     "output_type": "stream",
     "text": [
      "0.5 0.5 0.5\n",
      "1.5180000000000002 -0.2619999999999999 -1.0\n",
      "1.9170000000000007 1.249000902703301e-16 -1.5\n",
      "2.474000000000001 0.03250000000000022 -1.5\n",
      "2.719000000000001 0.10900000000000029 -1.5\n",
      "2.8640000000000008 0.2645000000000003 -1.5\n",
      "2.8640000000000008 0.2645000000000003 -1.5\n",
      "2.8640000000000008 0.2645000000000003 -1.5\n",
      "2.8640000000000008 0.2645000000000003 -1.5\n",
      "2.8640000000000008 0.2645000000000003 -1.5\n",
      "2.8640000000000008 0.2645000000000003 -1.5\n",
      "2.8640000000000008 0.2645000000000003 -1.5\n",
      "2.8640000000000008 0.2645000000000003 -1.5\n",
      "2.8640000000000008 0.2645000000000003 -1.5\n",
      "2.8640000000000008 0.2645000000000003 -1.5\n",
      "2.8640000000000008 0.2645000000000003 -1.5\n",
      "2.8640000000000008 0.2645000000000003 -1.5\n",
      "2.8640000000000008 0.2645000000000003 -1.5\n",
      "2.8640000000000008 0.2645000000000003 -1.5\n",
      "2.8640000000000008 0.2645000000000003 -1.5\n",
      "2.8640000000000008 0.2645000000000003 -1.5\n"
     ]
    }
   ],
   "source": [
    "import pandas as pd\n",
    "from numpy import genfromtxt\n",
    "\n",
    "mean1 = 0.8;\n",
    "mean2 = 0.2;\n",
    "sigma1 = 0.3;\n",
    "sigma2 = 0.2;"
   ]
  },
  {
   "cell_type": "code",
   "execution_count": null,
   "metadata": {},
   "outputs": [],
   "source": [
    "def gaus1(x):\n",
    "    return np.exp(-1*(np.pow((x-mean1),2)/(np.pow(sigma1,2)))/2)/(sqrt(2*np.pi)*sigma1)\n",
    "    \n",
    "def gaus2(x):\n",
    "    return np.exp(-1*(np.pow((x-mean2),2)/(np.pow(sigma2,2)))/2)/(sqrt(2*np.pi)*sigma2)"
   ]
  },
  {
   "cell_type": "code",
   "execution_count": null,
   "metadata": {},
   "outputs": [],
   "source": [
    "data = genfromtxt('data01.csv', delimiter=';')\n",
    "for i in data:\n",
    "    if i[2]==0:\n",
    "        i[2]=-1\n",
    "train =(data[0:75,0:3])\n",
    "test =(data[75:100,0:3])\n",
    "#print(train)\n",
    "w1 = 0.5\n",
    "w2 = 0.5\n",
    "b  = 0.5\n",
    "print(w1, w2, b)\n",
    "def f(x1,x2):\n",
    "    return(x1*w1+x2*w2+b)\n",
    "def decision_unit(value):\n",
    "    return -1 if value < 0 else 1\n",
    "for i in range(20):\n",
    "    for it in range(75):\n",
    "        value=f(train[it][0],train[it][1])\n",
    "        true_label = train[it][2]\n",
    "        pred_label = decision_unit(value)\n",
    "        if (true_label != pred_label):\n",
    "            w1 = w1 + train[it][0] * 0.5*true_label\n",
    "            w2 = w2 + train[it][1] * 0.5*true_label\n",
    "            b = b + 0.5*true_label\n",
    "    print(w1,w2,b)\n"
   ]
  }
 ],
 "metadata": {
  "kernelspec": {
   "display_name": "Python 3",
   "language": "python",
   "name": "python3"
  },
  "language_info": {
   "codemirror_mode": {
    "name": "ipython",
    "version": 3
   },
   "file_extension": ".py",
   "mimetype": "text/x-python",
   "name": "python",
   "nbconvert_exporter": "python",
   "pygments_lexer": "ipython3",
   "version": "3.7.1"
  }
 },
 "nbformat": 4,
 "nbformat_minor": 2
}
