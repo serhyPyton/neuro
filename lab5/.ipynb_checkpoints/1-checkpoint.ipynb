{
 "cells": [
  {
   "cell_type": "code",
   "execution_count": null,
   "metadata": {},
   "outputs": [],
   "source": [
    "#coding: utf8\n",
    "import numpy as np \n",
    "from itertools import combinations \n",
    "import copy\n",
    "from math import pi\n",
    "func = lambda x, y: -(x**2.-4.*x+3.)/256. #20 + (x ** 2 -10 * np.cos(2 * pi * x)) + (y ** 2 -10 * np.cos(2 * pi * y))\n"
   ]
  },
  {
   "cell_type": "code",
   "execution_count": null,
   "metadata": {},
   "outputs": [],
   "source": [
    "class GeneticEvolution:\n",
    "    def __init__(self, func, mut_prob=0.1, kill_portion=0.2, max_pairs=1000):\n",
    "        self.func = func\n",
    "        self.population = [] \n",
    "        # Current symbolic expression\n",
    "        self.mutation_probability = mut_prob\n",
    "        self.portion = kill_portion\n",
    "        self.max_pairs = max_pairs\n",
    "    def generate_random_population(self, size=500):\n",
    "        self.population = np.random.rand(100, 2).tolist()\n",
    "    def initialize(self):\n",
    "        self.generate_random_population()\n",
    "    def evolute(self, n_steps=1000):\n",
    "        n = 0\n",
    "        while n < n_steps:\n",
    "            #print('Крок:', n)\n",
    "            n += 1\n",
    "            ind = 0\n",
    "            newpopulation = copy.copy(self.population) \n",
    "            for comb in combinations(range(len(self.population)), 2):\n",
    "                ind += 1\n",
    "                if ind > self.max_pairs:\n",
    "                    break\n",
    "                a = self.mutate(self.population[comb[0]])\n",
    "                b = self.mutate(self.population[comb[1]])\n",
    "                newitem = self.crossover(a, b)\n",
    "                newpopulation.append(newitem)\n",
    "            self.population = self.killing(newpopulation) \n",
    "        print(self.population)\n",
    "        return np.max([func(x,y) for x, y in self.population])\n",
    "    def killing(self, population):\n",
    "        res = np.argsort([self.func(*item) for item in population])\n",
    "        res = res[:np.random.poisson(int(len(population) * self.portion))]\n",
    "        return np.array(population)[res].tolist()\n",
    "    def crossover(self, a, b, prob=0.5):\n",
    "        if np.random.rand() >  prob:\n",
    "            return [a[0], b[1]]\n",
    "        else:\n",
    "            return [b[0], a[1]]\n",
    "    def mutate(self, a):\n",
    "        if np.random.rand() < self.mutation_probability:\n",
    "            newa = a + (np.random.rand(2) -0.5)*0.05\n",
    "        else:\n",
    "            newa = a\n",
    "        return newa"
   ]
  },
  {
   "cell_type": "code",
   "execution_count": null,
   "metadata": {},
   "outputs": [],
   "source": [
    "g = GeneticEvolution(func=func)\n",
    "g.initialize()\n",
    "res = g.evolute()\n",
    "print('Результат оптимізації:', res)"
   ]
  },
  {
   "cell_type": "code",
   "execution_count": null,
   "metadata": {},
   "outputs": [],
   "source": []
  },
  {
   "cell_type": "code",
   "execution_count": null,
   "metadata": {},
   "outputs": [],
   "source": []
  }
 ],
 "metadata": {
  "kernelspec": {
   "display_name": "Python 3",
   "language": "python",
   "name": "python3"
  },
  "language_info": {
   "codemirror_mode": {
    "name": "ipython",
    "version": 3
   },
   "file_extension": ".py",
   "mimetype": "text/x-python",
   "name": "python",
   "nbconvert_exporter": "python",
   "pygments_lexer": "ipython3",
   "version": "3.7.1"
  }
 },
 "nbformat": 4,
 "nbformat_minor": 2
}
