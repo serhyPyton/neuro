{
 "cells": [
  {
   "cell_type": "code",
   "execution_count": 32,
   "metadata": {},
   "outputs": [],
   "source": [
    "\n",
    "import matplotlib.pyplot as plt\n",
    "import seaborn as sns; sns.set()  # for plot styling\n",
    "import numpy as np\n",
    "import pandas as pd\n",
    "from numpy import genfromtxt\n",
    "\n",
    "data = genfromtxt('data01.csv', delimiter=';')\n",
    "for i in data:\n",
    "    if i[2]==0:\n",
    "        i[2]=-1\n",
    "train =(data[0:75,0:3])\n",
    "test =(data[75:100,0:3])\n",
    "\n",
    "\n",
    "from sklearn.datasets.samples_generator import make_blobs\n",
    "X, y_true = make_blobs(n_samples=75, centers=2,\n",
    "                       cluster_std=0.60, random_state=0)\n",
    "#print(train[:,1])\n",
    "#print(X[:, 0])\n",
    "#print(train)"
   ]
  },
  {
   "cell_type": "code",
   "execution_count": 39,
   "metadata": {},
   "outputs": [
    {
     "name": "stdout",
     "output_type": "stream",
     "text": [
      "[[0.65001923 0.53982692]\n",
      " [0.23847826 0.32434783]]\n"
     ]
    },
    {
     "data": {
      "image/png": "[encoded data removed]",
      "text/plain": [
       "<Figure size 432x288 with 1 Axes>"
      ]
     },
     "metadata": {},
     "output_type": "display_data"
    }
   ],
   "source": [
    "from sklearn.metrics import pairwise_distances_argmin\n",
    "\n",
    "def find_clusters(X, n_clusters, rseed=2):\n",
    "    # 1. Randomly choose clusters\n",
    "    rng = np.random.RandomState(rseed)\n",
    "    i = rng.permutation(X.shape[0])[:n_clusters]\n",
    "    centers = X[i]\n",
    "    \n",
    "    while True:\n",
    "        # 2a. Assign labels based on closest center\n",
    "        labels = pairwise_distances_argmin(X, centers)\n",
    "        \n",
    "        # 2b. Find new centers from means of points\n",
    "        new_centers = np.array([X[labels == i].mean(0)\n",
    "                                for i in range(n_clusters)])\n",
    "        \n",
    "        # 2c. Check for convergence\n",
    "        if np.all(centers == new_centers):\n",
    "            break\n",
    "        centers = new_centers\n",
    "    \n",
    "    return centers, labels\n",
    "\n",
    "centers, labels = find_clusters(train[:,0:2], 2)\n",
    "plt.scatter(train[:,0], train[:,1], c=labels,\n",
    "            s=50, cmap='viridis');\n",
    "print(centers)"
   ]
  },
  {
   "cell_type": "code",
   "execution_count": 40,
   "metadata": {},
   "outputs": [
    {
     "name": "stdout",
     "output_type": "stream",
     "text": [
      "[0 0 1 1 1 1 0 1 0 0 0 0 0 0 0 0 0 1 0 0 1 0 1 1 0 0 0 1 0 0 0 0 0 0 0 0 1\n",
      " 1 0 1 1 0 1 0 0 0 0 0 0 1 0 0 0 0 0 0 1 1 0 0 0 0 0 0 0 0 1 0 1 1 0 1 1 0\n",
      " 0]\n"
     ]
    }
   ],
   "source": [
    "print(labels)"
   ]
  },
  {
   "cell_type": "code",
   "execution_count": 45,
   "metadata": {},
   "outputs": [
    {
     "name": "stdout",
     "output_type": "stream",
     "text": [
      "[0.284 0.852]\n",
      "[0.515 0.748]\n",
      "[0.301 0.514]\n",
      "[0.234 0.444]\n",
      "[0.246 0.299]\n",
      "[0.365 0.06 ]\n",
      "[0.462 0.676]\n",
      "[0.002 0.815]\n",
      "[0.793 0.614]\n",
      "[0.739 0.427]\n",
      "[0.584 0.58 ]\n",
      "[0.669 0.116]\n",
      "[0.677 0.545]\n",
      "[0.386 0.599]\n",
      "[0.417 0.977]\n",
      "[0.984 0.096]\n",
      "[0.647 0.844]\n",
      "[0.057 0.325]\n",
      "[0.71  0.615]\n",
      "[0.698 0.506]\n",
      "[0.452 0.259]\n",
      "[0.501 0.356]\n",
      "[0.215 0.246]\n",
      "[0.56  0.095]\n",
      "[0.843 0.542]\n",
      "[0.468 0.442]\n",
      "[0.681 0.618]\n",
      "[0.32  0.615]\n",
      "[0.571 0.442]\n",
      "[0.709 0.332]\n",
      "[0.857 0.483]\n",
      "[0.729 0.814]\n",
      "[0.384 0.71 ]\n",
      "[0.974 0.777]\n",
      "[0.495 0.591]\n",
      "[0.536 0.442]\n",
      "[0.033 0.094]\n",
      "[0.011 0.527]\n",
      "[0.343 0.69 ]\n",
      "[0.492 0.251]\n",
      "[0.268 0.346]\n",
      "[0.573 0.332]\n",
      "[0.152 0.531]\n",
      "[0.347 0.989]\n",
      "[0.839 0.215]\n",
      "[0.407 0.941]\n",
      "[0.673 0.865]\n",
      "[0.849 0.406]\n",
      "[0.496 0.451]\n",
      "[0.266 0.104]\n",
      "[0.654 0.441]\n",
      "[0.75  0.254]\n",
      "[0.989 0.804]\n",
      "[0.897 0.573]\n",
      "[0.846 0.009]\n",
      "[0.8   0.281]\n",
      "[0.068 0.025]\n",
      "[0.052 0.096]\n",
      "[0.999 0.319]\n",
      "[0.748 0.238]\n",
      "[0.483 0.862]\n",
      "[0.481 0.424]\n",
      "[0.863 0.122]\n",
      "[0.344 0.874]\n",
      "[0.983 0.067]\n",
      "[0.933 0.307]\n",
      "[0.188 0.167]\n",
      "[0.339 0.94 ]\n",
      "[0.32  0.389]\n",
      "[0.158 0.494]\n",
      "[0.724 0.204]\n",
      "[0.482 0.186]\n",
      "[0.243 0.578]\n",
      "[0.907 0.736]\n",
      "[0.221 0.983]\n"
     ]
    }
   ],
   "source": [
    "k=0\n",
    "for i in train[:,0:2]:\n",
    "    print(k)\n",
    "    print(i)\n",
    "    k++"
   ]
  },
  {
   "cell_type": "code",
   "execution_count": null,
   "metadata": {},
   "outputs": [],
   "source": []
  }
 ],
 "metadata": {
  "kernelspec": {
   "display_name": "Python 3",
   "language": "python",
   "name": "python3"
  },
  "language_info": {
   "codemirror_mode": {
    "name": "ipython",
    "version": 3
   },
   "file_extension": ".py",
   "mimetype": "text/x-python",
   "name": "python",
   "nbconvert_exporter": "python",
   "pygments_lexer": "ipython3",
   "version": "3.7.1"
  }
 },
 "nbformat": 4,
 "nbformat_minor": 2
}
